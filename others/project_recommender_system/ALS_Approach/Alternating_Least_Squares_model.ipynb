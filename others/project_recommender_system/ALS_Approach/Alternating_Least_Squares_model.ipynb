{
 "cells": [
  {
   "cell_type": "code",
   "execution_count": 1,
   "metadata": {
    "collapsed": false
   },
   "outputs": [],
   "source": [
    "%matplotlib inline\n",
    "import numpy as np\n",
    "import scipy\n",
    "import scipy.io\n",
    "import scipy.sparse as sp\n",
    "import matplotlib.pyplot as plt\n",
    "import datetime\n",
    "import time\n",
    "%load_ext autoreload\n",
    "%autoreload 2\n",
    "from helpers import *"
   ]
  },
  {
   "cell_type": "code",
   "execution_count": 2,
   "metadata": {
    "collapsed": false
   },
   "outputs": [
    {
     "name": "stdout",
     "output_type": "stream",
     "text": [
      "number of items: 10000, number of users: 1000\n",
      "Shape of ratings matrix: (10000, 1000)\n"
     ]
    }
   ],
   "source": [
    "dataset_file_path = \"data_train.csv\"\n",
    "ratings = load_data(dataset_file_path)\n",
    "print('Shape of ratings matrix:', ratings.shape)"
   ]
  },
  {
   "cell_type": "code",
   "execution_count": 3,
   "metadata": {
    "collapsed": false,
    "scrolled": true
   },
   "outputs": [
    {
     "data": {
      "image/png": "[encoded data removed]",
      "text/plain": [
       "<matplotlib.figure.Figure at 0x7f2926f98978>"
      ]
     },
     "metadata": {},
     "output_type": "display_data"
    },
    {
     "name": "stdout",
     "output_type": "stream",
     "text": [
      "min # of items per user = 8, min # of users per item = 3.\n"
     ]
    }
   ],
   "source": [
    "from plots import plot_raw_data\n",
    "\n",
    "num_items_per_user, num_users_per_item = plot_raw_data(ratings)\n",
    "\n",
    "print(\"min # of items per user = {}, min # of users per item = {}.\".format(\n",
    "        min(num_items_per_user), min(num_users_per_item)))"
   ]
  },
  {
   "cell_type": "code",
   "execution_count": 4,
   "metadata": {
    "collapsed": false
   },
   "outputs": [],
   "source": [
    "def initialize_matrices_random(train, num_features):\n",
    "    \"\"\"\n",
    "        Initialize randomly matrices W and Z of matrix factorization.\n",
    "\n",
    "        Arguments:\n",
    "            train: training set (matrix X)\n",
    "            num_features: number of latent variables in the W*Z^T decomposition\n",
    "\n",
    "        Returned value(s):\n",
    "            item_features: matrix W of shape = num_features, num_item\n",
    "            user_features: matrix Z of shape = num_features, num_user\n",
    "    \"\"\"\n",
    "    \n",
    "    # W matrix initialization\n",
    "    item_features = np.random.random((train.shape[0], num_features))\n",
    "    # Z matrix initialization\n",
    "    user_features = np.random.random((train.shape[1], num_features))\n",
    "    \n",
    "    return item_features, user_features"
   ]
  },
  {
   "cell_type": "code",
   "execution_count": 5,
   "metadata": {
    "collapsed": false
   },
   "outputs": [],
   "source": [
    "def initialize_matrices_first_column_mean(train, num_features):\n",
    "    \"\"\"\n",
    "        Initialize randomly matrices W and Z of matrix factorization.\n",
    "        In matrix W first column is assigned to average rating for that movie.\n",
    "\n",
    "        Arguments:\n",
    "            train: training set (matrix X)\n",
    "            num_features: number of latent variables in the W*Z^T decomposition\n",
    "\n",
    "        Returned value(s):\n",
    "            item_features: matrix W of shape = num_features, num_item\n",
    "            user_features: matrix Z of shape = num_features, num_user\n",
    "    \"\"\"\n",
    "\n",
    "    # W matrix initialization\n",
    "    item_features = np.random.random((train.shape[0], num_features))\n",
    "    item_features[:, 0] = train.mean(axis=1).reshape(item_features.shape[0])\n",
    "    # Z matrix initialization\n",
    "    user_features = np.random.random((train.shape[1], num_features))\n",
    "\n",
    "    return item_features, user_features"
   ]
  },
  {
   "cell_type": "code",
   "execution_count": 6,
   "metadata": {
    "collapsed": true
   },
   "outputs": [],
   "source": [
    "def initialize_matrices_global_mean(train, num_features):\n",
    "    \"\"\"\n",
    "        Initialize matrices W and Z of matrix factorization such that W*Z^T contains global mean\n",
    "        at all positions. Therefore all elements of W and Z equal to square root of global_mean/num_features\n",
    "\n",
    "        Arguments:\n",
    "            train: training set (matrix X)\n",
    "            num_features: number of latent variables in the W*Z^T decomposition\n",
    "\n",
    "        Returned value(s):\n",
    "            item_features: matrix W of shape = num_features, num_item\n",
    "            user_features: matrix Z of shape = num_features, num_user\n",
    "    \"\"\"\n",
    "    \n",
    "    global_mean = np.sum(train) / len(train.nonzero()[0])\n",
    "\n",
    "    # W matrix initialization\n",
    "    item_features = np.sqrt(global_mean/num_features) * np.ones((train.shape[0], num_features)) \n",
    "    # Z matrix initialization\n",
    "    user_features = np.sqrt(global_mean/num_features) * np.ones((train.shape[1], num_features))\n",
    "    \n",
    "    return item_features, user_features"
   ]
  },
  {
   "cell_type": "code",
   "execution_count": 7,
   "metadata": {
    "collapsed": true
   },
   "outputs": [],
   "source": [
    "def initialize_matrices_SVD(train, num_features):\n",
    "    \"\"\"\n",
    "        Initialize matrices W and Z of matrix factorization using SVD decomposition of original matrix X.\n",
    "\n",
    "        Arguments:\n",
    "            train: training set (matrix X)\n",
    "            num_features: number of latent variables in the W*Z^T decomposition\n",
    "\n",
    "        Returned value(s):\n",
    "            item_features: matrix W of shape = num_features, num_item\n",
    "            user_features: matrix Z of shape = num_features, num_user\n",
    "    \"\"\"\n",
    "    \n",
    "    U, s, V = np.linalg.svd(train, full_matrices=False)\n",
    "    \n",
    "    S = np.diag(s)\n",
    "\n",
    "    U_1 = U[:, 0:num_features]\n",
    "    S_1 = S[0:num_features, 0:num_features]\n",
    "    V_1 = V[0:num_features, :]\n",
    "    \n",
    "    # W matrix initialization\n",
    "    item_features = U_1\n",
    "    # Z matrix initialization\n",
    "    user_features = (S_1.dot(V_1)).T\n",
    "    \n",
    "    return item_features, user_features"
   ]
  },
  {
   "cell_type": "code",
   "execution_count": 8,
   "metadata": {
    "collapsed": false
   },
   "outputs": [],
   "source": [
    "def compute_ALS(train_set, train_nonzero_indices, test_set, test_nonzero_indices, num_epochs, cutoff, max_iter_threshold, num_features, item_features, user_features, test_mode):\n",
    "    # initialize matrices used to compute RMSE\n",
    "    train_label = np.zeros(len(train_nonzero_indices))\n",
    "    test_label = np.zeros(len(test_nonzero_indices))\n",
    "    train_prediction_label = np.zeros(len(train_nonzero_indices))\n",
    "    test_prediction_label = np.zeros(len(test_nonzero_indices))\n",
    "    \n",
    "    # initialize accumulators for RMSE of every iteration\n",
    "    train_rmse = np.zeros(num_epochs)\n",
    "    test_rmse = np.zeros(num_epochs)\n",
    "    if test_mode == True:\n",
    "        for i in range(len(test_nonzero_indices)):\n",
    "            test_label[i] = test_set[test_nonzero_indices[i][0], test_nonzero_indices[i][1]]\n",
    "    \n",
    "    lambda_user_diag = np.identity(num_features)\n",
    "    np.fill_diagonal(lambda_user_diag, lambda_user)\n",
    "    lambda_item_diag = np.identity(num_features)\n",
    "    np.fill_diagonal(lambda_item_diag, lambda_user)\n",
    "    \n",
    "    last_train_rmse = 0\n",
    "    \n",
    "    for it in range(num_epochs):\n",
    "        begin = datetime.datetime.now() # start time measurement\n",
    "        \n",
    "        print(\"Epoch:\", it)\n",
    "\n",
    "        # perform one iteteration of the algorithm\n",
    "        \n",
    "        # first fix item features: Z^T = (W^T*W + (lambda_z*I_K)^(-1)*W^T*X)\n",
    "        user_features = (np.linalg.inv(item_features.T.dot(item_features) + lambda_user_diag).dot(item_features.T.dot(train_set))).T\n",
    "        # then fix user features: W^T = (Z^T*Z + (lambda_w*I_K)^(-1)*Z^T*X^T)\n",
    "        item_features = (np.linalg.inv(user_features.T.dot(user_features) + lambda_item_diag).dot(user_features.T.dot(train_set.T))).T\n",
    "\n",
    "        # calculate training RMSE\n",
    "        for i in range(len(train_nonzero_indices)):\n",
    "            train_label[i] = train_set[train_nonzero_indices[i][0], train_nonzero_indices[i][1]]\n",
    "            train_prediction_label[i] = item_features[train_nonzero_indices[i][0], :].dot(user_features.T[:, train_nonzero_indices[i][1]])\n",
    "        \n",
    "        # store train RMSE of current iteration\n",
    "        train_rmse[it] = calculate_mse(train_label, train_prediction_label)\n",
    "        \n",
    "        print(\"RMSE on training set:\", train_rmse[it])\n",
    "        \n",
    "        if test_mode == True:\n",
    "            # calculate test RMSE\n",
    "            for i in range(len(test_nonzero_indices)):\n",
    "                test_prediction_label[i] = item_features[test_nonzero_indices[i][0], :].dot(user_features.T[:, test_nonzero_indices[i][1]])\n",
    "\n",
    "            # store test RMSE of current iteration\n",
    "            test_rmse[it] = calculate_mse(test_label, test_prediction_label)\n",
    "\n",
    "            print(\"RMSE on test set:\", test_rmse[it])\n",
    "\n",
    "        end = datetime.datetime.now() # stop time measurement\n",
    "        \n",
    "        # compute the time of the iteration\n",
    "        execution_time = (end - begin).total_seconds()\n",
    "        print(\"Execution time:\", execution_time)\n",
    "\n",
    "        print(\"*\" * 50)\n",
    "        \n",
    "        if np.fabs(last_train_rmse - train_rmse[it]) < max_iter_threshold:\n",
    "            print(\"ALREADY\")\n",
    "            if cutoff == True:\n",
    "                break\n",
    "        else:\n",
    "            last_train_rmse = train_rmse[it]\n",
    "    \n",
    "    return item_features.dot(user_features.T), train_rmse, test_rmse, it"
   ]
  },
  {
   "cell_type": "code",
   "execution_count": 9,
   "metadata": {
    "collapsed": false
   },
   "outputs": [
    {
     "name": "stdout",
     "output_type": "stream",
     "text": [
      "Epoch: 0\n",
      "RMSE on training set: 0.987924835058\n",
      "Execution time: 36.923194\n",
      "**************************************************\n",
      "Epoch: 1\n",
      "RMSE on training set: 0.972140748803\n",
      "Execution time: 36.820446\n",
      "**************************************************\n",
      "Epoch: 2\n",
      "RMSE on training set: 0.966622326352\n",
      "Execution time: 36.938481\n",
      "**************************************************\n",
      "Epoch: 3\n",
      "RMSE on training set: 0.96608984479\n",
      "Execution time: 37.587836\n",
      "**************************************************\n",
      "Epoch: 4\n",
      "RMSE on training set: 0.965903464275\n",
      "Execution time: 37.293708\n",
      "**************************************************\n"
     ]
    }
   ],
   "source": [
    "# set random seed\n",
    "np.random.seed(888)\n",
    "\n",
    "# define parameters\n",
    "init_method_num = 3 # number of matrices initialization method\n",
    "num_epochs = 5 # number of iterations of ALS\n",
    "cutoff = False # setting for usage of max_iter_threshold stop condition\n",
    "max_iter_threshold = 0.00005 # stop condition for ALS algorithm, no visible improvement\n",
    "num_features = 10 # number of latent features in matrix factorization\n",
    "lambda_item = 20 # regularization parameter for item features\n",
    "lambda_user = 30 # regularization parameter for user features\n",
    "split_ratio = 1.0 # ratio between size of training and test set\n",
    "test_mode = True\n",
    "if split_ratio == 1.0:\n",
    "    test_mode = False\n",
    "\n",
    "def nonzero_indices(matrix):\n",
    "    nz_row, nz_col = matrix.nonzero()\n",
    "    return list(zip(nz_row, nz_col))\n",
    "\n",
    "# find the non-zero ratings indices in the training set\n",
    "nonzero_indices = nonzero_indices(ratings)\n",
    "\n",
    "# convert sparse matrix representation to dense matrix representation\n",
    "ratings_dense = scipy.sparse.lil_matrix.todense(ratings)\n",
    "\n",
    "# preprocessing\n",
    "initialize_methods = [initialize_matrices_random, initialize_matrices_first_column_mean, initialize_matrices_global_mean, initialize_matrices_SVD]\n",
    "item_features, user_features = None, None\n",
    "\n",
    "if init_method_num != 2:\n",
    "    # initialize matrices W and Z\n",
    "    item_features, user_features = initialize_methods[init_method_num](ratings_dense, num_features)\n",
    "\n",
    "# normalize rows of ratings matrix by substracting mean (bias) rating for each movie\n",
    "h = np.nanmean(np.where(ratings_dense != 0, ratings_dense, np.nan), axis = 0)\n",
    "for i, j in nonzero_indices:\n",
    "    ratings_dense[i, j] -= h[j]\n",
    "\n",
    "# normalize columns of ratings matrix by substracting mean (bias) rating for each users\n",
    "v = np.nanmean(np.where(ratings_dense != 0, ratings_dense, np.nan), axis = 1)\n",
    "for i, j in nonzero_indices:\n",
    "    ratings_dense[i, j] -= v[i]\n",
    "\n",
    "if init_method_num == 2:\n",
    "    # initialize matrices W and Z\n",
    "    item_features, user_features = initialize_methods[init_method_num](ratings_dense, num_features)\n",
    "\n",
    "# split data into training and test sets\n",
    "np.random.shuffle(nonzero_indices)\n",
    "\n",
    "split_point = int(np.floor(len(nonzero_indices) * split_ratio))\n",
    "train_nonzero_indices = nonzero_indices[:split_point]\n",
    "test_nonzero_indices = nonzero_indices[split_point:]\n",
    "\n",
    "train_set = np.zeros(ratings_dense.shape)\n",
    "test_set = np.zeros(ratings_dense.shape)\n",
    "\n",
    "for i, j in train_nonzero_indices:\n",
    "    train_set[i, j] = ratings_dense[i, j]\n",
    "\n",
    "for i, j in test_nonzero_indices:\n",
    "    test_set[i, j] = ratings_dense[i, j]\n",
    "\n",
    "# compute the prediction and errors\n",
    "prediction, train_rmse, test_rmse, num_iter = compute_ALS(train_set, train_nonzero_indices, test_set, test_nonzero_indices, num_epochs, cutoff, max_iter_threshold, num_features, item_features, user_features, test_mode)"
   ]
  },
  {
   "cell_type": "code",
   "execution_count": 10,
   "metadata": {
    "collapsed": false,
    "scrolled": true
   },
   "outputs": [
    {
     "data": {
      "image/png": "[encoded data removed]",
      "text/plain": [
       "<matplotlib.figure.Figure at 0x7f292595ca58>"
      ]
     },
     "metadata": {},
     "output_type": "display_data"
    }
   ],
   "source": [
    "if test_mode == True:\n",
    "    plt.plot(range(num_iter), train_rmse[:num_iter], range(num_iter), test_rmse[:num_iter])\n",
    "else:\n",
    "    plt.plot(range(num_iter), train_rmse[:num_iter])"
   ]
  },
  {
   "cell_type": "code",
   "execution_count": 11,
   "metadata": {
    "collapsed": false
   },
   "outputs": [],
   "source": [
    "def create_csv_submission(prediction, submission_file_path = \"submission.csv\"):\n",
    "    \"\"\"\n",
    "        Creates an output file in csv format for submission to kaggle.\n",
    "\n",
    "        Arguments:\n",
    "            prediction: matrix W * Z^T\n",
    "            submission_file_path: string name of .csv output file to be created\n",
    "    \"\"\"\n",
    "\n",
    "    dataset_file_path = \"sampleSubmission.csv\" # file path to the dataset of the entries to be predicted\n",
    "    sample_ratings = load_data(dataset_file_path)\n",
    "    \n",
    "    # find the non-zero ratings indices \n",
    "    nz_row_sr, nz_col_sr = sample_ratings.nonzero()\n",
    "    nz_sr = list(zip(nz_row_sr, nz_col_sr))\n",
    "    \n",
    "    def trim_values(x):\n",
    "        if x < 1:\n",
    "            return 1\n",
    "        if x > 5:\n",
    "            return 5\n",
    "        return x\n",
    "    \n",
    "    def discretize_values(x):\n",
    "        if x <= 1.5:\n",
    "            return 1\n",
    "        if x <= 2.5:\n",
    "            return 2\n",
    "        if x <= 3.5:\n",
    "            return 3\n",
    "        if x <= 4.5:\n",
    "            return 4\n",
    "        return 5\n",
    "    \n",
    "    submission_file_path = time.strftime(\"%Y%m%d_%H%M%S\") + \" \" + submission_file_path\n",
    "    with open(submission_file_path, 'w') as csvfile:\n",
    "        fieldnames = ['Id', 'Prediction']\n",
    "        writer = csv.DictWriter(csvfile, delimiter=\",\", fieldnames=fieldnames)\n",
    "        writer.writeheader()\n",
    "        for i, j in nz_sr:\n",
    "            writer.writerow({'Id' : 'r' + str(i + 1) + '_' + 'c' + str(j + 1),\n",
    "                             'Prediction' : str(trim_values(prediction[i, j]))})"
   ]
  },
  {
   "cell_type": "code",
   "execution_count": 12,
   "metadata": {
    "collapsed": false
   },
   "outputs": [
    {
     "name": "stdout",
     "output_type": "stream",
     "text": [
      "number of items: 10000, number of users: 1000\n"
     ]
    }
   ],
   "source": [
    "# denormalize rows of ratings matrix by adding back mean (bias) rating for each movie\n",
    "H = np.zeros(prediction.shape)\n",
    "for i in range(prediction.shape[0]):\n",
    "    H[i, :] = h\n",
    "\n",
    "# denormalize columns of ratings matrix by adding back mean (bias) rating for each user\n",
    "V = np.zeros(prediction.shape)\n",
    "for i in range(prediction.shape[1]):\n",
    "    V[:, i] = v\n",
    "\n",
    "prediction = prediction + H + V\n",
    "\n",
    "if test_mode == False:\n",
    "    create_csv_submission(prediction)"
   ]
  },
  {
   "cell_type": "code",
   "execution_count": null,
   "metadata": {
    "collapsed": true
   },
   "outputs": [],
   "source": []
  }
 ],
 "metadata": {
  "anaconda-cloud": {},
  "kernelspec": {
   "display_name": "Python [Root]",
   "language": "python",
   "name": "Python [Root]"
  },
  "language_info": {
   "codemirror_mode": {
    "name": "ipython",
    "version": 3
   },
   "file_extension": ".py",
   "mimetype": "text/x-python",
   "name": "python",
   "nbconvert_exporter": "python",
   "pygments_lexer": "ipython3",
   "version": "3.5.2"
  }
 },
 "nbformat": 4,
 "nbformat_minor": 1
}
