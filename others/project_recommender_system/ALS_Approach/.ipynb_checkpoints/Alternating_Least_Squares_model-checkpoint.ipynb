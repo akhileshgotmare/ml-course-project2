{
 "cells": [
  {
   "cell_type": "code",
   "execution_count": 1,
   "metadata": {
    "collapsed": false
   },
   "outputs": [],
   "source": [
    "%matplotlib inline\n",
    "import numpy as np\n",
    "import scipy\n",
    "import scipy.io\n",
    "import scipy.sparse as sp\n",
    "import matplotlib.pyplot as plt\n",
    "import datetime\n",
    "import time\n",
    "%load_ext autoreload\n",
    "%autoreload 2\n",
    "from helpers import *"
   ]
  },
  {
   "cell_type": "code",
   "execution_count": 2,
   "metadata": {
    "collapsed": false
   },
   "outputs": [
    {
     "name": "stdout",
     "output_type": "stream",
     "text": [
      "number of items: 10000, number of users: 1000\n",
      "Shape of ratings matrix: (10000, 1000)\n"
     ]
    }
   ],
   "source": [
    "dataset_file_path = \"data_train.csv\"\n",
    "ratings = load_data(dataset_file_path)\n",
    "print('Shape of ratings matrix:', ratings.shape)"
   ]
  },
  {
   "cell_type": "code",
   "execution_count": 3,
   "metadata": {
    "collapsed": false,
    "scrolled": true
   },
   "outputs": [
    {
     "data": {
      "image/png": "[encoded data removed]",
      "text/plain": [
       "<matplotlib.figure.Figure at 0x7fe50dde0668>"
      ]
     },
     "metadata": {},
     "output_type": "display_data"
    },
    {
     "name": "stdout",
     "output_type": "stream",
     "text": [
      "min # of items per user = 8, min # of users per item = 3.\n"
     ]
    }
   ],
   "source": [
    "from plots import plot_raw_data\n",
    "\n",
    "num_items_per_user, num_users_per_item = plot_raw_data(ratings)\n",
    "\n",
    "print(\"min # of items per user = {}, min # of users per item = {}.\".format(\n",
    "        min(num_items_per_user), min(num_users_per_item)))"
   ]
  },
  {
   "cell_type": "code",
   "execution_count": 4,
   "metadata": {
    "collapsed": false
   },
   "outputs": [],
   "source": [
    "def init_MF_random(train, num_features):\n",
    "    \"\"\"\n",
    "        Initialize randomly the matrices W and Z of matrix factorization.\n",
    "\n",
    "        Arguments:\n",
    "            train: training set (matrix X)\n",
    "            num_features: number of latent variables in the W*Z^T decomposition\n",
    "\n",
    "        Returned value(s):\n",
    "            item_features: matrix W of shape = num_features, num_item\n",
    "            user_features: matrix Z of shape = num_features, num_user\n",
    "    \"\"\"\n",
    "    \n",
    "    item_features = np.random.random((train.shape[0],num_features)) # W matrix initialization\n",
    "    user_features = np.random.random((train.shape[1],num_features)) # Z matrix initialization\n",
    "    \n",
    "    return item_features, user_features"
   ]
  },
  {
   "cell_type": "code",
   "execution_count": 5,
   "metadata": {
    "collapsed": false
   },
   "outputs": [],
   "source": [
    "def compute_ALS(train_set, train_nonzero_indices, test_set, test_nonzero_indices, num_epochs, num_features, item_features, user_features):\n",
    "    # initialize matrices used to compute RMSE\n",
    "    train_label = np.zeros(len(nonzero_indices))\n",
    "    test_label = np.zeros(len(nonzero_indices))\n",
    "    prediction_label = np.zeros(len(nonzero_indices))\n",
    "    \n",
    "    # initialize accumulators for RMSE of every iteration\n",
    "    train_rmse = np.zeros(num_epochs)\n",
    "    test_rmse = np.zeros(num_epochs)\n",
    "    \n",
    "    lambda_user_diag = np.identity(num_features)\n",
    "    np.fill_diagonal(lambda_user_diag, lambda_user)\n",
    "    lambda_item_diag = np.identity(num_features)\n",
    "    np.fill_diagonal(lambda_item_diag, lambda_user)\n",
    "    \n",
    "    last_rmse = 0\n",
    "    max_iter_threshold = 0.0005\n",
    "    \n",
    "    for it in range(num_epochs):\n",
    "        begin = datetime.datetime.now() # start time measurement\n",
    "        \n",
    "        print(\"Epoch:\", it)\n",
    "\n",
    "        # perform one iteteration of the algorithm\n",
    "        \n",
    "        # first fix item features: Z^T = (W^T*W + (lambda_z*I_K)^(-1)*W^T*X)\n",
    "        user_features = (np.linalg.inv(item_features.T.dot(item_features) + lambda_user_diag).dot(item_features.T.dot(train_set))).T\n",
    "        # then fix user features: W^T = (Z^T*Z + (lambda_w*I_K)^(-1)*Z^T*X^T)\n",
    "        item_features = (np.linalg.inv(user_features.T.dot(user_features) + lambda_item_diag).dot(user_features.T.dot(train_set.T))).T\n",
    "\n",
    "        # calculate training RMSE\n",
    "        for i in range(len(train_nonzero_indices)):\n",
    "            train_label[i] = train_set[train_nonzero_indices[i][0], train_nonzero_indices[i][1]]\n",
    "            prediction_label[i] = item_features[train_nonzero_indices[i][0], :].dot(user_features.T[:, train_nonzero_indices[i][1]])\n",
    "        \n",
    "        # store train RMSE of current iteration\n",
    "        train_rmse[it] = calculate_mse(train_label, prediction_label)\n",
    "        \n",
    "        print(\"RMSE on training set:\", train_rmse[it])\n",
    "        \n",
    "        # calculate test RMSE\n",
    "        for i in range(len(test_nonzero_indices)):\n",
    "            test_label[i] = test_set[test_nonzero_indices[i][0], test_nonzero_indices[i][1]]\n",
    "            prediction_label[i] = item_features[test_nonzero_indices[i][0], :].dot(user_features.T[:, test_nonzero_indices[i][1]])\n",
    "\n",
    "        # store test RMSE of current iteration\n",
    "        test_rmse[it] = calculate_mse(test_label, prediction_label)\n",
    "        \n",
    "        print(\"RMSE on test set:\", test_rmse[it])\n",
    "\n",
    "        end = datetime.datetime.now() # stop time measurement\n",
    "        \n",
    "        # compute the time of the iteration\n",
    "        execution_time = (end - begin).total_seconds()\n",
    "        print(\"Execution time:\", execution_time)\n",
    "\n",
    "        print(\"*\" * 50)\n",
    "        \n",
    "        #if np.fabs(last_rmse - train_rmse[it]) < max_iter_threshold:\n",
    "        #    break\n",
    "        #else:\n",
    "        #    last_rmse = train_rmse[it]\n",
    "    \n",
    "    return item_features.dot(user_features.T), train_rmse, test_rmse, it"
   ]
  },
  {
   "cell_type": "code",
   "execution_count": 6,
   "metadata": {
    "collapsed": false
   },
   "outputs": [
    {
     "name": "stdout",
     "output_type": "stream",
     "text": [
      "Epoch: 0\n",
      "RMSE on training set: 0.930623017445\n",
      "RMSE on test set: 0.313270540554\n",
      "Execution time: 4.689264\n",
      "**************************************************\n",
      "Epoch: 1\n",
      "RMSE on training set: 0.843039027072\n",
      "RMSE on test set: 0.370131115311\n",
      "Execution time: 4.537766\n",
      "**************************************************\n",
      "Epoch: 2\n",
      "RMSE on training set: 0.833736012449\n",
      "RMSE on test set: 0.389129332776\n",
      "Execution time: 5.174377\n",
      "**************************************************\n",
      "Epoch: 3\n",
      "RMSE on training set: 0.830465445822\n",
      "RMSE on test set: 0.400037101225\n",
      "Execution time: 6.140911\n",
      "**************************************************\n",
      "Epoch: 4\n",
      "RMSE on training set: 0.829116409441\n",
      "RMSE on test set: 0.406872749338\n",
      "Execution time: 6.212218\n",
      "**************************************************\n",
      "Epoch: 5\n",
      "RMSE on training set: 0.828499455581\n",
      "RMSE on test set: 0.411470809635\n",
      "Execution time: 6.128517\n",
      "**************************************************\n",
      "Epoch: 6\n",
      "RMSE on training set: 0.828196504281\n",
      "RMSE on test set: 0.414727118918\n",
      "Execution time: 6.109666\n",
      "**************************************************\n",
      "Epoch: 7\n",
      "RMSE on training set: 0.828040629124\n",
      "RMSE on test set: 0.41713105893\n",
      "Execution time: 6.021646\n",
      "**************************************************\n",
      "Epoch: 8\n",
      "RMSE on training set: 0.827957997934\n",
      "RMSE on test set: 0.4189648016\n",
      "Execution time: 6.126577\n",
      "**************************************************\n",
      "Epoch: 9\n",
      "RMSE on training set: 0.827912782619\n",
      "RMSE on test set: 0.420398595586\n",
      "Execution time: 6.024436\n",
      "**************************************************\n",
      "Epoch: 10\n",
      "RMSE on training set: 0.827886496464\n",
      "RMSE on test set: 0.421540914136\n",
      "Execution time: 6.122426\n",
      "**************************************************\n",
      "Epoch: 11\n",
      "RMSE on training set: 0.827869391232\n",
      "RMSE on test set: 0.42246471161\n",
      "Execution time: 6.138068\n",
      "**************************************************\n",
      "Epoch: 12\n",
      "RMSE on training set: 0.827856397507\n",
      "RMSE on test set: 0.423221306861\n",
      "Execution time: 6.155574\n",
      "**************************************************\n",
      "Epoch: 13\n",
      "RMSE on training set: 0.827845000553\n",
      "RMSE on test set: 0.423848018569\n",
      "Execution time: 5.963096\n",
      "**************************************************\n",
      "Epoch: 14\n",
      "RMSE on training set: 0.827834060894\n",
      "RMSE on test set: 0.42437261207\n",
      "Execution time: 6.247848\n",
      "**************************************************\n",
      "Epoch: 15\n",
      "RMSE on training set: 0.827823149208\n",
      "RMSE on test set: 0.424816064658\n",
      "Execution time: 6.017684\n",
      "**************************************************\n",
      "Epoch: 16\n",
      "RMSE on training set: 0.827812177979\n",
      "RMSE on test set: 0.425194398036\n",
      "Execution time: 6.189728\n",
      "**************************************************\n",
      "Epoch: 17\n",
      "RMSE on training set: 0.827801205557\n",
      "RMSE on test set: 0.425519955754\n",
      "Execution time: 6.443889\n",
      "**************************************************\n",
      "Epoch: 18\n",
      "RMSE on training set: 0.827790337636\n",
      "RMSE on test set: 0.425802323542\n",
      "Execution time: 6.485588\n",
      "**************************************************\n",
      "Epoch: 19\n",
      "RMSE on training set: 0.82777968138\n",
      "RMSE on test set: 0.426049004365\n",
      "Execution time: 6.257137\n",
      "**************************************************\n"
     ]
    }
   ],
   "source": [
    "# define parameters\n",
    "num_epochs = 20 # number of iterations of ALS\n",
    "num_features = 50 # number of latent features in matrix factorization\n",
    "lambda_item = 1.0 # regularization parameter for item features\n",
    "lambda_user = 1.0 # regularization parameter for user features\n",
    "\n",
    "# set random seed\n",
    "np.random.seed(988)\n",
    "\n",
    "# initialize matrices W and Z\n",
    "item_features, user_features = init_MF_random(ratings, num_features)\n",
    "\n",
    "def nonzero_indices(matrix):\n",
    "    nz_row, nz_col = matrix.nonzero()\n",
    "    return list(zip(nz_row, nz_col))\n",
    "\n",
    "# find the non-zero ratings indices in the training set\n",
    "nonzero_indices = nonzero_indices(ratings)\n",
    "\n",
    "ratings_dense = scipy.sparse.lil_matrix.todense(ratings)\n",
    "\n",
    "# normalize rows of ratings matrix by substracting mean (bias) rating for each movie\n",
    "h = np.nanmean(np.where(ratings_dense != 0, ratings_dense, np.nan), axis = 0)\n",
    "for i, j in nonzero_indices:\n",
    "    ratings_dense[i, j] -= h[j]\n",
    "\n",
    "# normalize columns of ratings matrix by substracting mean (bias) rating for each users\n",
    "v = np.nanmean(np.where(ratings_dense != 0, ratings_dense, np.nan), axis = 1)\n",
    "for i, j in nonzero_indices:\n",
    "    ratings_dense[i, j] -= v[i]\n",
    "\n",
    "np.random.shuffle(nonzero_indices)\n",
    "train_nonzero_indices = nonzero_indices[:int(np.floor(len(nonzero_indices) * 0.9))]\n",
    "test_nonzero_indices = nonzero_indices[int(np.floor(len(nonzero_indices) * 0.9)):]\n",
    "\n",
    "train_set = np.zeros(ratings_dense.shape)\n",
    "test_set = np.zeros(ratings_dense.shape)\n",
    "\n",
    "for i, j in train_nonzero_indices:\n",
    "    train_set[i, j] = ratings_dense[i, j]\n",
    "\n",
    "for i, j in test_nonzero_indices:\n",
    "    test_set[i, j] = ratings_dense[i, j]\n",
    "\n",
    "prediction, train_rmse, test_rmse, no_iter = compute_ALS(train_set, train_nonzero_indices, test_set, test_nonzero_indices, num_epochs, num_features, item_features, user_features)"
   ]
  },
  {
   "cell_type": "code",
   "execution_count": 7,
   "metadata": {
    "collapsed": false,
    "scrolled": true
   },
   "outputs": [
    {
     "data": {
      "text/plain": [
       "[<matplotlib.lines.Line2D at 0x7fe4fd7b4278>]"
      ]
     },
     "execution_count": 7,
     "metadata": {},
     "output_type": "execute_result"
    },
    {
     "data": {
      "image/png": "[encoded data removed]",
      "text/plain": [
       "<matplotlib.figure.Figure at 0x7fe50bb6a080>"
      ]
     },
     "metadata": {},
     "output_type": "display_data"
    }
   ],
   "source": [
    "plt.plot(train_rmse[:no_iter])"
   ]
  },
  {
   "cell_type": "code",
   "execution_count": 8,
   "metadata": {
    "collapsed": false
   },
   "outputs": [
    {
     "data": {
      "text/plain": [
       "[<matplotlib.lines.Line2D at 0x7fe4fd71b5c0>]"
      ]
     },
     "execution_count": 8,
     "metadata": {},
     "output_type": "execute_result"
    },
    {
     "data": {
      "image/png": "[encoded data removed]",
      "text/plain": [
       "<matplotlib.figure.Figure at 0x7fe4fd7412e8>"
      ]
     },
     "metadata": {},
     "output_type": "display_data"
    }
   ],
   "source": [
    "plt.plot(test_rmse[:no_iter])"
   ]
  },
  {
   "cell_type": "code",
   "execution_count": 9,
   "metadata": {
    "collapsed": false
   },
   "outputs": [],
   "source": [
    "def create_csv_submission(prediction, submission_file_path = \"submission.csv\"):\n",
    "    \"\"\"\n",
    "        Creates an output file in csv format for submission to kaggle.\n",
    "\n",
    "        Arguments:\n",
    "            prediction: matrix W * Z^T\n",
    "            submission_file_path: string name of .csv output file to be created\n",
    "    \"\"\"\n",
    "\n",
    "    dataset_file_path = \"sampleSubmission.csv\" # file path to the dataset of the entries to be predicted\n",
    "    sample_ratings = load_data(dataset_file_path)\n",
    "    \n",
    "    # find the non-zero ratings indices \n",
    "    nz_row_sr, nz_col_sr = sample_ratings.nonzero()\n",
    "    nz_sr = list(zip(nz_row_sr, nz_col_sr))\n",
    "    \n",
    "    submission_file_path = time.strftime(\"%Y%m%d_%H%M%S\") + \" \" + submission_file_path\n",
    "    with open(submission_file_path, 'w') as csvfile:\n",
    "        fieldnames = ['Id', 'Prediction']\n",
    "        writer = csv.DictWriter(csvfile, delimiter=\",\", fieldnames=fieldnames)\n",
    "        writer.writeheader()\n",
    "        for i, j in nz_sr:\n",
    "            writer.writerow({'Id' : 'r' + str(i + 1) + '_' + 'c' + str(j + 1),\n",
    "                             'Prediction' : str(prediction[i, j])})"
   ]
  },
  {
   "cell_type": "code",
   "execution_count": 11,
   "metadata": {
    "collapsed": false
   },
   "outputs": [
    {
     "name": "stdout",
     "output_type": "stream",
     "text": [
      "number of items: 10000, number of users: 1000\n"
     ]
    }
   ],
   "source": [
    "# denormalize rows of ratings matrix by adding back mean (bias) rating for each movie\n",
    "H = np.zeros(prediction.shape)\n",
    "for i in range(prediction.shape[0]):\n",
    "    H[i, :] = h\n",
    "\n",
    "# denormalize columns of ratings matrix by adding back mean (bias) rating for each user\n",
    "V = np.zeros(prediction.shape)\n",
    "for i in range(prediction.shape[1]):\n",
    "    V[:, i] = v\n",
    "\n",
    "prediction = prediction + H + V\n",
    "\n",
    "create_csv_submission(prediction)"
   ]
  },
  {
   "cell_type": "code",
   "execution_count": null,
   "metadata": {
    "collapsed": true
   },
   "outputs": [],
   "source": [
    "#TODO:\n",
    "# store the best matrix (one before)\n",
    "# trim the values lower then 0 and higher then 5\n",
    "# comment the code\n",
    "# PEP8"
   ]
  },
  {
   "cell_type": "code",
   "execution_count": null,
   "metadata": {
    "collapsed": true
   },
   "outputs": [],
   "source": []
  }
 ],
 "metadata": {
  "anaconda-cloud": {},
  "kernelspec": {
   "display_name": "Python [default]",
   "language": "python",
   "name": "python3"
  },
  "language_info": {
   "codemirror_mode": {
    "name": "ipython",
    "version": 3
   },
   "file_extension": ".py",
   "mimetype": "text/x-python",
   "name": "python",
   "nbconvert_exporter": "python",
   "pygments_lexer": "ipython3",
   "version": "3.5.2"
  }
 },
 "nbformat": 4,
 "nbformat_minor": 1
}
