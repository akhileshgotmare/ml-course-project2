{
 "cells": [
  {
   "cell_type": "markdown",
   "metadata": {},
   "source": [
    "## Merging output of different methods in order to receive better prediction"
   ]
  },
  {
   "cell_type": "code",
   "execution_count": 1,
   "metadata": {
    "collapsed": false
   },
   "outputs": [],
   "source": [
    "import numpy as np\n",
    "import scipy\n",
    "import scipy.io\n",
    "import scipy.sparse as sp\n",
    "import datetime\n",
    "import time\n",
    "%load_ext autoreload\n",
    "%autoreload 2\n",
    "import sys\n",
    "sys.path.insert(0, 'ALS_Approach')\n",
    "from helpers import *"
   ]
  },
  {
   "cell_type": "code",
   "execution_count": 2,
   "metadata": {
    "collapsed": false
   },
   "outputs": [
    {
     "name": "stdout",
     "output_type": "stream",
     "text": [
      "number of items: 10000, number of users: 1000\n",
      "number of items: 10000, number of users: 1000\n"
     ]
    }
   ],
   "source": [
    "SGD_prediction_file = \"ALS_Approach/20161220_171018 submission.csv\"\n",
    "ALS_prediction_file = \"ALS_Approach/20161220_175252 submission.csv\"\n",
    "SGD_prediction = scipy.sparse.lil_matrix.todense(load_data(SGD_prediction_file))\n",
    "ALS_prediction = scipy.sparse.lil_matrix.todense(load_data(ALS_prediction_file))"
   ]
  },
  {
   "cell_type": "code",
   "execution_count": 3,
   "metadata": {
    "collapsed": true
   },
   "outputs": [],
   "source": [
    "average_prediction = (SGD_prediction + ALS_prediction) / 2"
   ]
  },
  {
   "cell_type": "code",
   "execution_count": 4,
   "metadata": {
    "collapsed": true
   },
   "outputs": [],
   "source": [
    "def create_csv_submission(prediction, submission_file_path = \"submission.csv\"):\n",
    "    \"\"\"\n",
    "        Creates an output file in csv format for submission to kaggle.\n",
    "\n",
    "        Arguments:\n",
    "            prediction: matrix W * Z^T\n",
    "            submission_file_path: string name of .csv output file to be created\n",
    "    \"\"\"\n",
    "    \n",
    "    # find the non-zero ratings indices \n",
    "    nz_row_sr, nz_col_sr = prediction.nonzero()\n",
    "    nz_sr = list(zip(nz_row_sr, nz_col_sr))\n",
    "    \n",
    "    submission_file_path = time.strftime(\"%Y%m%d_%H%M%S merged\") + \" \" + submission_file_path\n",
    "    with open(submission_file_path, 'w') as csvfile:\n",
    "        fieldnames = ['Id', 'Prediction']\n",
    "        writer = csv.DictWriter(csvfile, delimiter=\",\", fieldnames=fieldnames)\n",
    "        writer.writeheader()\n",
    "        for i, j in nz_sr:\n",
    "            writer.writerow({'Id' : 'r' + str(i + 1) + '_' + 'c' + str(j + 1),\n",
    "                             'Prediction' : str(prediction[i, j])})"
   ]
  },
  {
   "cell_type": "code",
   "execution_count": 5,
   "metadata": {
    "collapsed": false
   },
   "outputs": [],
   "source": [
    "create_csv_submission(average_prediction)"
   ]
  }
 ],
 "metadata": {
  "kernelspec": {
   "display_name": "Python [Root]",
   "language": "python",
   "name": "Python [Root]"
  },
  "language_info": {
   "codemirror_mode": {
    "name": "ipython",
    "version": 3
   },
   "file_extension": ".py",
   "mimetype": "text/x-python",
   "name": "python",
   "nbconvert_exporter": "python",
   "pygments_lexer": "ipython3",
   "version": "3.5.2"
  }
 },
 "nbformat": 4,
 "nbformat_minor": 0
}
