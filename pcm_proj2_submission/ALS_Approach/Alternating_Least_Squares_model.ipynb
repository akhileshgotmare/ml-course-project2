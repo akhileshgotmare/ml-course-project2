{
 "cells": [
  {
   "cell_type": "code",
   "execution_count": 1,
   "metadata": {
    "collapsed": false
   },
   "outputs": [],
   "source": [
    "%matplotlib inline\n",
    "import numpy as np\n",
    "import scipy\n",
    "import scipy.io\n",
    "import scipy.sparse as sp\n",
    "import csv\n",
    "import matplotlib.pyplot as plt\n",
    "from preprocessing import *\n",
    "from helpers import *\n",
    "from ALS import *\n",
    "from plots import plot_raw_data\n",
    "%load_ext autoreload\n",
    "%autoreload 2"
   ]
  },
  {
   "cell_type": "code",
   "execution_count": 2,
   "metadata": {
    "collapsed": true
   },
   "outputs": [],
   "source": [
    "# import dataset\n",
    "dataset_file_path = \"data_train.csv\"\n",
    "ratings = load_data(dataset_file_path)"
   ]
  },
  {
   "cell_type": "code",
   "execution_count": 3,
   "metadata": {
    "collapsed": false
   },
   "outputs": [
    {
     "data": {
      "image/png": "[encoded data removed]",
      "text/plain": [
       "<matplotlib.figure.Figure at 0x7f31f82d8748>"
      ]
     },
     "metadata": {},
     "output_type": "display_data"
    }
   ],
   "source": [
    "# plot some baselines\n",
    "num_items_per_user, num_users_per_item = plot_raw_data(ratings)"
   ]
  },
  {
   "cell_type": "code",
   "execution_count": 4,
   "metadata": {
    "collapsed": true
   },
   "outputs": [],
   "source": [
    "# set random seed\n",
    "np.random.seed(888)"
   ]
  },
  {
   "cell_type": "code",
   "execution_count": 5,
   "metadata": {
    "collapsed": true
   },
   "outputs": [],
   "source": [
    "# define parameters\n",
    "init_method_num = 1 # number of matrices initialization method\n",
    "num_epochs = 1 # number of iterations of ALS\n",
    "cutoff = True # setting for usage of max_iter_threshold stop condition\n",
    "max_iter_threshold = 0.00005 # stop condition for ALS algorithm, no visible improvement\n",
    "num_features = 50 # number of latent features in matrix factorization\n",
    "lambda_item = 60 # regularization parameter for item features\n",
    "lambda_user = 10 # regularization parameter for user features\n",
    "split_ratio = 1.0 # ratio between size of training and test set\n",
    "test_mode = True\n",
    "if split_ratio == 1.0:\n",
    "    test_mode = False"
   ]
  },
  {
   "cell_type": "code",
   "execution_count": 6,
   "metadata": {
    "collapsed": false
   },
   "outputs": [],
   "source": [
    "# find the non-zero ratings indices in the training set\n",
    "nonzero_indices = non_zero_indices(ratings)"
   ]
  },
  {
   "cell_type": "code",
   "execution_count": 7,
   "metadata": {
    "collapsed": true
   },
   "outputs": [],
   "source": [
    "# convert sparse matrix representation to dense matrix representation\n",
    "ratings_dense = scipy.sparse.lil_matrix.todense(ratings)"
   ]
  },
  {
   "cell_type": "code",
   "execution_count": 8,
   "metadata": {
    "collapsed": true
   },
   "outputs": [],
   "source": [
    "# preprocessing\n",
    "initialize_methods = [initialize_matrices_random, initialize_matrices_first_column_mean, initialize_matrices_SVD]\n",
    "item_features, user_features = None, None"
   ]
  },
  {
   "cell_type": "code",
   "execution_count": 9,
   "metadata": {
    "collapsed": true
   },
   "outputs": [],
   "source": [
    "# initialize matrices W and Z\n",
    "item_features, user_features = initialize_methods[init_method_num](ratings_dense, num_features)"
   ]
  },
  {
   "cell_type": "code",
   "execution_count": 10,
   "metadata": {
    "collapsed": false
   },
   "outputs": [],
   "source": [
    "# normalize rows of ratings matrix by substracting mean (bias) rating for each movie\n",
    "h = np.nanmean(np.where(ratings_dense != 0, ratings_dense, np.nan), axis = 0)\n",
    "for i, j in nonzero_indices:\n",
    "    ratings_dense[i, j] -= h[j]\n",
    "\n",
    "# normalize columns of ratings matrix by substracting mean (bias) rating for each users\n",
    "v = np.nanmean(np.where(ratings_dense != 0, ratings_dense, np.nan), axis = 1)\n",
    "for i, j in nonzero_indices:\n",
    "    ratings_dense[i, j] -= v[i]"
   ]
  },
  {
   "cell_type": "code",
   "execution_count": 11,
   "metadata": {
    "collapsed": true
   },
   "outputs": [],
   "source": [
    "# split data into training and test sets\n",
    "np.random.shuffle(nonzero_indices)\n",
    "\n",
    "split_point = int(np.floor(len(nonzero_indices) * split_ratio))\n",
    "train_nonzero_indices = nonzero_indices[:split_point]\n",
    "test_nonzero_indices = nonzero_indices[split_point:]\n",
    "\n",
    "train_set = np.zeros(ratings_dense.shape)\n",
    "test_set = np.zeros(ratings_dense.shape)\n",
    "\n",
    "for i, j in train_nonzero_indices:\n",
    "    train_set[i, j] = ratings_dense[i, j]\n",
    "\n",
    "for i, j in test_nonzero_indices:\n",
    "    test_set[i, j] = ratings_dense[i, j]"
   ]
  },
  {
   "cell_type": "code",
   "execution_count": 12,
   "metadata": {
    "collapsed": false
   },
   "outputs": [
    {
     "name": "stdout",
     "output_type": "stream",
     "text": [
      "Epoch: 0\n",
      "RMSE on training set: 0.987939023755\n",
      "Execution time: 6.745589\n",
      "**************************************************\n"
     ]
    }
   ],
   "source": [
    "# compute the prediction and errors\n",
    "prediction, train_rmse, test_rmse, num_iter = compute_ALS(train_set, train_nonzero_indices, test_set, test_nonzero_indices, num_epochs, cutoff, max_iter_threshold, num_features, lambda_item, lambda_user, item_features, user_features, test_mode)"
   ]
  },
  {
   "cell_type": "code",
   "execution_count": 13,
   "metadata": {
    "collapsed": false
   },
   "outputs": [
    {
     "data": {
      "image/png": "[encoded data removed]",
      "text/plain": [
       "<matplotlib.figure.Figure at 0x7f31c12f3908>"
      ]
     },
     "metadata": {},
     "output_type": "display_data"
    }
   ],
   "source": [
    "if test_mode == True:\n",
    "    plt.plot(range(num_iter), train_rmse[:num_iter], range(num_iter), test_rmse[:num_iter])\n",
    "else:\n",
    "    plt.plot(range(num_iter), train_rmse[:num_iter])"
   ]
  },
  {
   "cell_type": "code",
   "execution_count": 14,
   "metadata": {
    "collapsed": true
   },
   "outputs": [],
   "source": [
    "# denormalize rows of ratings matrix by adding back mean (bias) rating for each movie\n",
    "H = np.zeros(prediction.shape)\n",
    "for i in range(prediction.shape[0]):\n",
    "    H[i, :] = h\n",
    "\n",
    "# denormalize columns of ratings matrix by adding back mean (bias) rating for each user\n",
    "V = np.zeros(prediction.shape)\n",
    "for i in range(prediction.shape[1]):\n",
    "    V[:, i] = v\n",
    "\n",
    "prediction = prediction + H + V"
   ]
  },
  {
   "cell_type": "code",
   "execution_count": 15,
   "metadata": {
    "collapsed": true
   },
   "outputs": [],
   "source": [
    "if test_mode == False:\n",
    "    create_csv_submission(prediction)"
   ]
  }
 ],
 "metadata": {
  "anaconda-cloud": {},
  "kernelspec": {
   "display_name": "Python [Root]",
   "language": "python",
   "name": "Python [Root]"
  },
  "language_info": {
   "codemirror_mode": {
    "name": "ipython",
    "version": 3
   },
   "file_extension": ".py",
   "mimetype": "text/x-python",
   "name": "python",
   "nbconvert_exporter": "python",
   "pygments_lexer": "ipython3",
   "version": "3.5.2"
  }
 },
 "nbformat": 4,
 "nbformat_minor": 1
}
